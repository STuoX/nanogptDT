{
 "cells": [
  {
   "attachments": {},
   "cell_type": "markdown",
   "metadata": {},
   "source": [
    "# Project One\n",
    "Jose Lira \n",
    "Tuo Xin"
   ]
  },
  {
   "attachments": {},
   "cell_type": "markdown",
   "metadata": {},
   "source": [
    "# Problem statement\n",
    "In this project, we tried to fine tune nanogpt with Donald Trump's rally speeches. We try to figure out if the model can pick up Donald Trump's speaking style. And see how large the dataset should be to avoid overfitting and produce decent result."
   ]
  },
  {
   "attachments": {},
   "cell_type": "markdown",
   "metadata": {},
   "source": [
    "# Dataset\n",
    "Dataset Link: https://www.kaggle.com/datasets/christianlillelund/donald-trumps-rallies\n",
    "\n",
    "In this dataset, there are 35 speeches. We used one/five/all of them as the input to the model and benchmarked the result in the table below."
   ]
  },
  {
   "attachments": {},
   "cell_type": "markdown",
   "metadata": {},
   "source": [
    "# Results"
   ]
  },
  {
   "attachments": {},
   "cell_type": "markdown",
   "metadata": {},
   "source": [
    "\n",
    "\n",
    "\n",
    "\n",
    "The generated text from tinetuned model with one or five speeches are not readable. Big corpus helps build a more robust model. 'The finetuned model' below refers to the model fine-tuned with 35 speeches."
   ]
  },
  {
   "attachments": {
    "image.png": {
     "image/png": "[encoded data removed]"
    }
   },
   "cell_type": "markdown",
   "metadata": {},
   "source": [
    "![image.png](attachment:image.png)"
   ]
  },
  {
   "attachments": {},
   "cell_type": "markdown",
   "metadata": {},
   "source": [
    "Below are the result we got from the best fine-tuned model we have vs pretrained nanogpt base model. A significant style change is observable.\n",
    "\n",
    "The generate text from nanogpt:"
   ]
  },
  {
   "cell_type": "code",
   "execution_count": 1,
   "metadata": {},
   "outputs": [
    {
     "name": "stdout",
     "output_type": "stream",
     "text": [
      "modelpy running\n",
      "Overriding: init_from = gpt2\n",
      "Overriding: start = How to make America great again?\n",
      "Overriding: num_samples = 1\n",
      "Overriding: max_new_tokens = 200\n",
      "loading weights from pretrained gpt: gpt2\n",
      "forcing vocab_size=50257, block_size=1024, bias=True\n",
      "overriding dropout rate to 0.0\n",
      "WARNING: using slow attention. Flash Attention requires PyTorch >= 2.0\n",
      "WARNING: using slow attention. Flash Attention requires PyTorch >= 2.0\n",
      "WARNING: using slow attention. Flash Attention requires PyTorch >= 2.0\n",
      "WARNING: using slow attention. Flash Attention requires PyTorch >= 2.0\n",
      "WARNING: using slow attention. Flash Attention requires PyTorch >= 2.0\n",
      "WARNING: using slow attention. Flash Attention requires PyTorch >= 2.0\n",
      "WARNING: using slow attention. Flash Attention requires PyTorch >= 2.0\n",
      "WARNING: using slow attention. Flash Attention requires PyTorch >= 2.0\n",
      "WARNING: using slow attention. Flash Attention requires PyTorch >= 2.0\n",
      "WARNING: using slow attention. Flash Attention requires PyTorch >= 2.0\n",
      "WARNING: using slow attention. Flash Attention requires PyTorch >= 2.0\n",
      "WARNING: using slow attention. Flash Attention requires PyTorch >= 2.0\n",
      "number of parameters: 123.65M\n",
      "No meta.pkl found, assuming GPT-2 encodings...\n",
      "How to make America great again?\n",
      "\n",
      "This is where business owners, consultants, and business leaders come in. They deal with the issues but also have access to information from other actors who have a stake in the outcome of the 2008 campaign and those who have no business involvement with these campaigns. With that knowledge comes a greater understanding of how grassroots movements work in the public interest.\n",
      "\n",
      "I'm going to keep the campaign to only all non-profit organizations. If organizations like the Economic Freedom Network (ERN), the California Poverty Action Network (CPAN) and others are interested in supporting candidates, they can sign up and provide detailed financial and financial disclosures. If you're not interested in just supporting candidates, I suggest you contact them.\n",
      "\n",
      "Governments should be more concerned about giving states the tools to help them organize, educate and mobilize voters and make their communities stronger.\n",
      "\n",
      "In the next few days we'll be publishing the story of \"Raising Democracy for America.\" Our list highlights elected representatives, lawmakers, and\n",
      "---------------\n"
     ]
    }
   ],
   "source": [
    "! python sample.py --init_from=gpt2 --start=\"How to make America great again?\"  --num_samples=1 --max_new_tokens=200"
   ]
  },
  {
   "attachments": {},
   "cell_type": "markdown",
   "metadata": {},
   "source": [
    "The generated text from fine-tuned model:"
   ]
  },
  {
   "cell_type": "code",
   "execution_count": 2,
   "metadata": {},
   "outputs": [
    {
     "name": "stdout",
     "output_type": "stream",
     "text": [
      "modelpy running\n",
      "Overriding: init_from = resume\n",
      "Overriding: start = How to make America great again?\n",
      "Overriding: num_samples = 1\n",
      "Overriding: max_new_tokens = 200\n",
      "WARNING: using slow attention. Flash Attention requires PyTorch >= 2.0\n",
      "WARNING: using slow attention. Flash Attention requires PyTorch >= 2.0\n",
      "WARNING: using slow attention. Flash Attention requires PyTorch >= 2.0\n",
      "WARNING: using slow attention. Flash Attention requires PyTorch >= 2.0\n",
      "WARNING: using slow attention. Flash Attention requires PyTorch >= 2.0\n",
      "WARNING: using slow attention. Flash Attention requires PyTorch >= 2.0\n",
      "WARNING: using slow attention. Flash Attention requires PyTorch >= 2.0\n",
      "WARNING: using slow attention. Flash Attention requires PyTorch >= 2.0\n",
      "WARNING: using slow attention. Flash Attention requires PyTorch >= 2.0\n",
      "WARNING: using slow attention. Flash Attention requires PyTorch >= 2.0\n",
      "WARNING: using slow attention. Flash Attention requires PyTorch >= 2.0\n",
      "WARNING: using slow attention. Flash Attention requires PyTorch >= 2.0\n",
      "number of parameters: 123.59M\n",
      "No meta.pkl found, assuming GPT-2 encodings...\n",
      "How to make America great again? I don't happen to do. He said, by the beginning. The next one. Great, they're going to what it's good. They're going to be seeing it, and they're going to this guy, that you. And we're going to go back and they're not a great, because is the day. So he says, which is the street who you're not going to have a great thing they don't put out of the way to have never seen. They are we could say, I don't know where they'll tell you're doing great, two and I'd have a bad. And if we can't talk about it back. We're going to take it. It's really can you know what they're going to get a very well. Great. He was a phony, and it. It's not like to the truth again, they're very much for the people. It's going to be very tough people, Sir, the most powerful military\n",
      "---------------\n"
     ]
    }
   ],
   "source": [
    "! python sample.py --init_from=resume --start=\"How to make America great again?\"  --num_samples=1 --max_new_tokens=200"
   ]
  },
  {
   "attachments": {},
   "cell_type": "markdown",
   "metadata": {},
   "source": [
    "# Summary"
   ]
  },
  {
   "attachments": {},
   "cell_type": "markdown",
   "metadata": {},
   "source": [
    "The model picked up two significant characters:\n",
    "1. Use easy words: Danald Trump is famous for his habits of using easy words at the level of every kid can understand.\n",
    "2. Short sentences: Compared to pretrained model trained from open webtext. Speeches contains lots of spoken short sentences.\n",
    "\n",
    "Model Problems:\n",
    "1. Speeches are not training materials as the coherence between sentences is not good, compared to novals and webtexts.\n",
    "2. Filler words and repetitive phrases interupts the flow. For example: \"I took you on this fantastic journey. It's so much fun. They want to impeach you. They want to do worse than that. By the way, by the way, by the way, it doesn't really feel like we're being impeached.\" Note that 'by the way' repeated 3 times, which badly influences a generative model.\n",
    "3. We need larger dataset to produce a better model.\n"
   ]
  },
  {
   "attachments": {},
   "cell_type": "markdown",
   "metadata": {},
   "source": [
    "# Exploration"
   ]
  },
  {
   "attachments": {},
   "cell_type": "markdown",
   "metadata": {},
   "source": [
    "Then we put generated text to OpenAI ai text classififer that detect if a text is generated by AI. Below are the results:\n",
    "Link: https://platform.openai.com/ai-text-classifier\n",
    "\n",
    "Interestingly, both generated text got the same result:\n",
    "The classifier considers the text to be unclear if it is AI-generated."
   ]
  },
  {
   "cell_type": "markdown",
   "metadata": {},
   "source": []
  }
 ],
 "metadata": {
  "kernelspec": {
   "display_name": "nanogptvenv",
   "language": "python",
   "name": "nanogptvenv"
  },
  "language_info": {
   "codemirror_mode": {
    "name": "ipython",
    "version": 3
   },
   "file_extension": ".py",
   "mimetype": "text/x-python",
   "name": "python",
   "nbconvert_exporter": "python",
   "pygments_lexer": "ipython3",
   "version": "3.9.16"
  },
  "orig_nbformat": 4
 },
 "nbformat": 4,
 "nbformat_minor": 2
}
